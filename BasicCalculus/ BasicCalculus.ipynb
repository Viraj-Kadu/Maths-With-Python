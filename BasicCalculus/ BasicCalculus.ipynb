{
 "cells": [
  {
   "cell_type": "markdown",
   "id": "9265373f-25d9-48aa-84b4-f473b7485e1f",
   "metadata": {},
   "source": [
    "## Calculus with SymPy"
   ]
  },
  {
   "cell_type": "code",
   "execution_count": 1,
   "id": "b2ac1df0-3b3e-418c-b536-977e1c0a23c1",
   "metadata": {},
   "outputs": [
    {
     "name": "stdout",
     "output_type": "stream",
     "text": [
      "Collecting sympy\n",
      "  Downloading sympy-1.13.3-py3-none-any.whl (6.2 MB)\n",
      "\u001b[2K     \u001b[90m━━━━━━━━━━━━━━━━━━━━━━━━━━━━━━━━━━━━━━━━\u001b[0m \u001b[32m6.2/6.2 MB\u001b[0m \u001b[31m2.9 MB/s\u001b[0m eta \u001b[36m0:00:00\u001b[0m00:01\u001b[0m00:01\u001b[0m\n",
      "\u001b[?25hCollecting mpmath<1.4,>=1.1.0\n",
      "  Using cached mpmath-1.3.0-py3-none-any.whl (536 kB)\n",
      "Installing collected packages: mpmath, sympy\n",
      "Successfully installed mpmath-1.3.0 sympy-1.13.3\n",
      "\n",
      "\u001b[1m[\u001b[0m\u001b[34;49mnotice\u001b[0m\u001b[1;39;49m]\u001b[0m\u001b[39;49m A new release of pip is available: \u001b[0m\u001b[31;49m23.0.1\u001b[0m\u001b[39;49m -> \u001b[0m\u001b[32;49m24.2\u001b[0m\n",
      "\u001b[1m[\u001b[0m\u001b[34;49mnotice\u001b[0m\u001b[1;39;49m]\u001b[0m\u001b[39;49m To update, run: \u001b[0m\u001b[32;49mpip install --upgrade pip\u001b[0m\n"
     ]
    }
   ],
   "source": [
    "!pip install sympy"
   ]
  },
  {
   "cell_type": "code",
   "execution_count": 2,
   "id": "6b3c7264-d61e-45e9-8e65-e10c1a15403f",
   "metadata": {},
   "outputs": [],
   "source": [
    "import sympy as sp"
   ]
  },
  {
   "cell_type": "code",
   "execution_count": 4,
   "id": "fac6af55-6734-4d92-b7eb-f621b8ba591a",
   "metadata": {},
   "outputs": [],
   "source": [
    "# 1. Define a symbolic variable\n",
    "x = sp.symbols('x')"
   ]
  },
  {
   "cell_type": "code",
   "execution_count": 5,
   "id": "dea421f8-5e71-4b6e-90cf-ee9de01d0052",
   "metadata": {},
   "outputs": [],
   "source": [
    "# 2. Define a mathematical function\n",
    "f = x**3 + 2*x**2 - 3*x + 5"
   ]
  },
  {
   "cell_type": "code",
   "execution_count": 7,
   "id": "b7846d6c-e8fc-4cbc-993a-37a6eb16d325",
   "metadata": {},
   "outputs": [
    {
     "name": "stdout",
     "output_type": "stream",
     "text": [
      "3*x**2 + 4*x - 3\n"
     ]
    }
   ],
   "source": [
    "# 3. Find the derivative of the function\n",
    "f_prime = sp.diff(f, x)\n",
    "print(f_prime)"
   ]
  },
  {
   "cell_type": "code",
   "execution_count": 8,
   "id": "06eb4a00-413a-4e38-a9c7-77b736ec219c",
   "metadata": {},
   "outputs": [
    {
     "name": "stdout",
     "output_type": "stream",
     "text": [
      "x**4/4 + 2*x**3/3 - 3*x**2/2 + 5*x\n"
     ]
    }
   ],
   "source": [
    "# 4. Find the integral of the function\n",
    "f_integral = sp.integrate(f, x)\n",
    "print(f_integral)"
   ]
  },
  {
   "cell_type": "code",
   "execution_count": 9,
   "id": "b9d1a338-2c45-46a9-83bc-fe7b0fe86173",
   "metadata": {},
   "outputs": [
    {
     "name": "stdout",
     "output_type": "stream",
     "text": [
      "[-2/3 - 13/(3*(-1/2 - sqrt(3)*I/2)*(3*sqrt(3693)/2 + 205/2)**(1/3)) - (-1/2 - sqrt(3)*I/2)*(3*sqrt(3693)/2 + 205/2)**(1/3)/3, -2/3 - (-1/2 + sqrt(3)*I/2)*(3*sqrt(3693)/2 + 205/2)**(1/3)/3 - 13/(3*(-1/2 + sqrt(3)*I/2)*(3*sqrt(3693)/2 + 205/2)**(1/3)), -(3*sqrt(3693)/2 + 205/2)**(1/3)/3 - 13/(3*(3*sqrt(3693)/2 + 205/2)**(1/3)) - 2/3]\n"
     ]
    }
   ],
   "source": [
    "# 5. Solve the equation f(x) = 0 (finding roots)\n",
    "solutions = sp.solve(f, x)\n",
    "print(solutions)"
   ]
  },
  {
   "cell_type": "code",
   "execution_count": 10,
   "id": "461db857-3ae7-486f-8783-be5e1b6d6c74",
   "metadata": {},
   "outputs": [
    {
     "name": "stdout",
     "output_type": "stream",
     "text": [
      "17\n"
     ]
    }
   ],
   "source": [
    "# 6. Evaluate the derivative at a specific point (e.g., x = 2)\n",
    "derivative_at_2 = f_prime.subs(x, 2)\n",
    "print(derivative_at_2)"
   ]
  },
  {
   "cell_type": "code",
   "execution_count": null,
   "id": "e6d5e126-eccf-4eb0-a924-9b941d79c992",
   "metadata": {},
   "outputs": [],
   "source": []
  }
 ],
 "metadata": {
  "kernelspec": {
   "display_name": "Python 3 (ipykernel)",
   "language": "python",
   "name": "python3"
  },
  "language_info": {
   "codemirror_mode": {
    "name": "ipython",
    "version": 3
   },
   "file_extension": ".py",
   "mimetype": "text/x-python",
   "name": "python",
   "nbconvert_exporter": "python",
   "pygments_lexer": "ipython3",
   "version": "3.10.11"
  }
 },
 "nbformat": 4,
 "nbformat_minor": 5
}
